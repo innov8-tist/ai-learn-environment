{
 "cells": [
  {
   "cell_type": "code",
   "execution_count": null,
   "metadata": {},
   "outputs": [
    {
     "name": "stdout",
     "output_type": "stream",
     "text": [
      "[youtube] Extracting URL: https://www.youtube.com/watch?v=CtsRRUddV2s\n",
      "[youtube] CtsRRUddV2s: Downloading webpage\n"
     ]
    },
    {
     "name": "stdout",
     "output_type": "stream",
     "text": [
      "[youtube] CtsRRUddV2s: Downloading tv client config\n",
      "[youtube] CtsRRUddV2s: Downloading player f3d47b5a\n",
      "[youtube] CtsRRUddV2s: Downloading tv player API JSON\n",
      "[youtube] CtsRRUddV2s: Downloading ios player API JSON\n",
      "[youtube] CtsRRUddV2s: Downloading m3u8 information\n",
      "[info] CtsRRUddV2s: Downloading 1 format(s): 248+251\n",
      "[download] Destination: cloud\\video_segment.mp4.webm\n",
      "[download] 100% of    1.91MiB in 00:00:01 at 1.85MiB/s\n"
     ]
    }
   ],
   "source": [
    "import os\n",
    "import sys\n",
    "from yt_dlp import YoutubeDL\n",
    "\n",
    "def download_video_segment(video_url, start_time, end_time, output_file_name):\n",
    "    # Convert start and end times from seconds to hh:mm:ss format\n",
    "    start_time_hms = str(int(start_time) // 3600).zfill(2) + ':' + str((int(start_time) % 3600) // 60).zfill(2) + ':' + str(int(start_time) % 60).zfill(2)\n",
    "    end_time_hms = str(int(end_time) // 3600).zfill(2) + ':' + str((int(end_time) % 3600) // 60).zfill(2) + ':' + str(int(end_time) % 60).zfill(2)\n",
    "\n",
    "    # Ensure the output folder exists\n",
    "    output_folder=\"../cloud\"\n",
    "\n",
    "    # Set up yt-dlp options\n",
    "    ydl_opts = {\n",
    "        'format': 'bestvideo+bestaudio',\n",
    "        'external_downloader': 'ffmpeg',\n",
    "        'external_downloader_args': ['-ss', start_time_hms, '-to', end_time_hms],\n",
    "        'outtmpl': os.path.join(output_folder, output_file_name + '.mp4'),  # Save as MP4\n",
    "    }\n",
    "\n",
    "    # Download the video using yt-dlp\n",
    "    with YoutubeDL(ydl_opts) as ydl:\n",
    "        ydl.download([video_url])\n",
    "\n",
    "# Example usage\n",
    "download_video_segment('https://www.youtube.com/watch?v=CtsRRUddV2s', 60, 120, 'video_segment')\n",
    "\n",
    "\n",
    "   "
   ]
  },
  {
   "cell_type": "code",
   "execution_count": 9,
   "metadata": {},
   "outputs": [
    {
     "name": "stdout",
     "output_type": "stream",
     "text": [
      "[youtube] Extracting URL: https://www.youtube.com/watch?v=CtsRRUddV2s\n",
      "[youtube] CtsRRUddV2s: Downloading webpage\n",
      "[youtube] CtsRRUddV2s: Downloading tv client config\n",
      "[youtube] CtsRRUddV2s: Downloading player f3d47b5a\n",
      "[youtube] CtsRRUddV2s: Downloading tv player API JSON\n",
      "[youtube] CtsRRUddV2s: Downloading ios player API JSON\n",
      "[youtube] CtsRRUddV2s: Downloading m3u8 information\n",
      "[info] CtsRRUddV2s: Downloading 1 format(s): 248+251\n",
      "[download] Destination: hi.webm\n",
      "[download] 100% of    1.91MiB in 00:00:01 at 1.54MiB/s\n"
     ]
    }
   ],
   "source": [
    "download_video_segment(\"https://www.youtube.com/watch?v=CtsRRUddV2s\", 60, 120, \"hi\")"
   ]
  },
  {
   "cell_type": "code",
   "execution_count": null,
   "metadata": {},
   "outputs": [],
   "source": []
  }
 ],
 "metadata": {
  "kernelspec": {
   "display_name": "Python 3",
   "language": "python",
   "name": "python3"
  },
  "language_info": {
   "codemirror_mode": {
    "name": "ipython",
    "version": 3
   },
   "file_extension": ".py",
   "mimetype": "text/x-python",
   "name": "python",
   "nbconvert_exporter": "python",
   "pygments_lexer": "ipython3",
   "version": "3.12.4"
  }
 },
 "nbformat": 4,
 "nbformat_minor": 2
}
